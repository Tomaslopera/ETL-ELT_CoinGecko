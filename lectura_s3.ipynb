{
 "cells": [
  {
   "cell_type": "markdown",
   "id": "7b08fe92",
   "metadata": {},
   "source": [
    "# Listar los Archivos del Bucket S3"
   ]
  },
  {
   "cell_type": "code",
   "execution_count": 1,
   "id": "4768241a",
   "metadata": {},
   "outputs": [
    {
     "name": "stdout",
     "output_type": "stream",
     "text": [
      "etl/crypto_markets/dt=2025/09/29/coingecko_top50_20250929T231022Z.parquet 2025-09-29 23:10:24+00:00 13910\n",
      "etl/crypto_markets/dt=2025/09/29/coingecko_top50_20250929T232554Z.parquet 2025-09-29 23:28:23+00:00 13922\n"
     ]
    }
   ],
   "source": [
    "import boto3\n",
    "\n",
    "bucket = \"coingecko-prefect\"\n",
    "prefix = \"etl/crypto_markets/\"\n",
    "\n",
    "s3 = boto3.client(\"s3\")\n",
    "resp = s3.list_objects_v2(Bucket=bucket, Prefix=prefix)\n",
    "for obj in resp.get(\"Contents\", []):\n",
    "    print(obj[\"Key\"], obj[\"LastModified\"], obj[\"Size\"])"
   ]
  },
  {
   "cell_type": "markdown",
   "id": "ac3c2a96",
   "metadata": {},
   "source": [
    "# Ver el último archivo del Bucket S3"
   ]
  },
  {
   "cell_type": "code",
   "execution_count": 2,
   "id": "2c001405",
   "metadata": {},
   "outputs": [
    {
     "name": "stdout",
     "output_type": "stream",
     "text": [
      "Leyendo: etl/crypto_markets/dt=2025/09/29/coingecko_top50_20250929T232554Z.parquet\n"
     ]
    },
    {
     "data": {
      "application/vnd.microsoft.datawrangler.viewer.v0+json": {
       "columns": [
        {
         "name": "index",
         "rawType": "int64",
         "type": "integer"
        },
        {
         "name": "id",
         "rawType": "object",
         "type": "string"
        },
        {
         "name": "symbol",
         "rawType": "object",
         "type": "string"
        },
        {
         "name": "name",
         "rawType": "object",
         "type": "string"
        },
        {
         "name": "current_price",
         "rawType": "float64",
         "type": "float"
        },
        {
         "name": "market_cap",
         "rawType": "int64",
         "type": "integer"
        },
        {
         "name": "total_volume",
         "rawType": "int64",
         "type": "integer"
        },
        {
         "name": "high_24h",
         "rawType": "float64",
         "type": "float"
        },
        {
         "name": "low_24h",
         "rawType": "float64",
         "type": "float"
        },
        {
         "name": "price_change_percentage_1h_in_currency",
         "rawType": "float64",
         "type": "float"
        },
        {
         "name": "price_change_percentage_24h_in_currency",
         "rawType": "float64",
         "type": "float"
        },
        {
         "name": "price_change_percentage_7d_in_currency",
         "rawType": "float64",
         "type": "float"
        },
        {
         "name": "last_updated",
         "rawType": "datetime64[ns, UTC]",
         "type": "unknown"
        },
        {
         "name": "run_ts_utc",
         "rawType": "datetime64[us, UTC]",
         "type": "unknown"
        },
        {
         "name": "dt",
         "rawType": "category",
         "type": "unknown"
        }
       ],
       "ref": "f72a9791-12a3-4249-b45a-274268616f4f",
       "rows": [
        [
         "0",
         "bitcoin",
         "btc",
         "Bitcoin",
         "114313.0",
         "2277021305051",
         "58855014595",
         "114411.0",
         "111599.0",
         "0.13487360215119557",
         "2.0128337940805747",
         "1.1985527531567997",
         "2025-09-29 23:20:22.786000+00:00",
         "2025-09-29 23:24:10.401645+00:00",
         "2025"
        ],
        [
         "1",
         "ethereum",
         "eth",
         "Ethereum",
         "4225.59",
         "509726400726",
         "35437258130",
         "4230.02",
         "4089.64",
         "0.05796547055005179",
         "2.4124805245568726",
         "0.7234529845014718",
         "2025-09-29 23:20:25.315000+00:00",
         "2025-09-29 23:24:10.401645+00:00",
         "2025"
        ],
        [
         "2",
         "tether",
         "usdt",
         "Tether",
         "1.0",
         "174454866853",
         "111783934919",
         "1.001",
         "1.0",
         "0.0025638552970510074",
         "0.02237397872132465",
         "-0.016331643094815957",
         "2025-09-29 23:20:21.246000+00:00",
         "2025-09-29 23:24:10.401645+00:00",
         "2025"
        ],
        [
         "3",
         "ripple",
         "xrp",
         "XRP",
         "2.89",
         "172553781571",
         "4905318747",
         "2.91",
         "2.85",
         "-0.16775077334942026",
         "0.8464898860427634",
         "1.1953631976366719",
         "2025-09-29 23:20:19.767000+00:00",
         "2025-09-29 23:24:10.401645+00:00",
         "2025"
        ],
        [
         "4",
         "binancecoin",
         "bnb",
         "BNB",
         "1033.05",
         "143649529111",
         "2127461869",
         "1035.61",
         "988.9",
         "-0.11022752688672266",
         "4.458524667719113",
         "4.140283923743233",
         "2025-09-29 23:20:22.739000+00:00",
         "2025-09-29 23:24:10.401645+00:00",
         "2025"
        ]
       ],
       "shape": {
        "columns": 14,
        "rows": 5
       }
      },
      "text/html": [
       "<div>\n",
       "<style scoped>\n",
       "    .dataframe tbody tr th:only-of-type {\n",
       "        vertical-align: middle;\n",
       "    }\n",
       "\n",
       "    .dataframe tbody tr th {\n",
       "        vertical-align: top;\n",
       "    }\n",
       "\n",
       "    .dataframe thead th {\n",
       "        text-align: right;\n",
       "    }\n",
       "</style>\n",
       "<table border=\"1\" class=\"dataframe\">\n",
       "  <thead>\n",
       "    <tr style=\"text-align: right;\">\n",
       "      <th></th>\n",
       "      <th>id</th>\n",
       "      <th>symbol</th>\n",
       "      <th>name</th>\n",
       "      <th>current_price</th>\n",
       "      <th>market_cap</th>\n",
       "      <th>total_volume</th>\n",
       "      <th>high_24h</th>\n",
       "      <th>low_24h</th>\n",
       "      <th>price_change_percentage_1h_in_currency</th>\n",
       "      <th>price_change_percentage_24h_in_currency</th>\n",
       "      <th>price_change_percentage_7d_in_currency</th>\n",
       "      <th>last_updated</th>\n",
       "      <th>run_ts_utc</th>\n",
       "      <th>dt</th>\n",
       "    </tr>\n",
       "  </thead>\n",
       "  <tbody>\n",
       "    <tr>\n",
       "      <th>0</th>\n",
       "      <td>bitcoin</td>\n",
       "      <td>btc</td>\n",
       "      <td>Bitcoin</td>\n",
       "      <td>114313.00</td>\n",
       "      <td>2277021305051</td>\n",
       "      <td>58855014595</td>\n",
       "      <td>114411.000</td>\n",
       "      <td>111599.00</td>\n",
       "      <td>0.134874</td>\n",
       "      <td>2.012834</td>\n",
       "      <td>1.198553</td>\n",
       "      <td>2025-09-29 23:20:22.786000+00:00</td>\n",
       "      <td>2025-09-29 23:24:10.401645+00:00</td>\n",
       "      <td>2025</td>\n",
       "    </tr>\n",
       "    <tr>\n",
       "      <th>1</th>\n",
       "      <td>ethereum</td>\n",
       "      <td>eth</td>\n",
       "      <td>Ethereum</td>\n",
       "      <td>4225.59</td>\n",
       "      <td>509726400726</td>\n",
       "      <td>35437258130</td>\n",
       "      <td>4230.020</td>\n",
       "      <td>4089.64</td>\n",
       "      <td>0.057965</td>\n",
       "      <td>2.412481</td>\n",
       "      <td>0.723453</td>\n",
       "      <td>2025-09-29 23:20:25.315000+00:00</td>\n",
       "      <td>2025-09-29 23:24:10.401645+00:00</td>\n",
       "      <td>2025</td>\n",
       "    </tr>\n",
       "    <tr>\n",
       "      <th>2</th>\n",
       "      <td>tether</td>\n",
       "      <td>usdt</td>\n",
       "      <td>Tether</td>\n",
       "      <td>1.00</td>\n",
       "      <td>174454866853</td>\n",
       "      <td>111783934919</td>\n",
       "      <td>1.001</td>\n",
       "      <td>1.00</td>\n",
       "      <td>0.002564</td>\n",
       "      <td>0.022374</td>\n",
       "      <td>-0.016332</td>\n",
       "      <td>2025-09-29 23:20:21.246000+00:00</td>\n",
       "      <td>2025-09-29 23:24:10.401645+00:00</td>\n",
       "      <td>2025</td>\n",
       "    </tr>\n",
       "    <tr>\n",
       "      <th>3</th>\n",
       "      <td>ripple</td>\n",
       "      <td>xrp</td>\n",
       "      <td>XRP</td>\n",
       "      <td>2.89</td>\n",
       "      <td>172553781571</td>\n",
       "      <td>4905318747</td>\n",
       "      <td>2.910</td>\n",
       "      <td>2.85</td>\n",
       "      <td>-0.167751</td>\n",
       "      <td>0.846490</td>\n",
       "      <td>1.195363</td>\n",
       "      <td>2025-09-29 23:20:19.767000+00:00</td>\n",
       "      <td>2025-09-29 23:24:10.401645+00:00</td>\n",
       "      <td>2025</td>\n",
       "    </tr>\n",
       "    <tr>\n",
       "      <th>4</th>\n",
       "      <td>binancecoin</td>\n",
       "      <td>bnb</td>\n",
       "      <td>BNB</td>\n",
       "      <td>1033.05</td>\n",
       "      <td>143649529111</td>\n",
       "      <td>2127461869</td>\n",
       "      <td>1035.610</td>\n",
       "      <td>988.90</td>\n",
       "      <td>-0.110228</td>\n",
       "      <td>4.458525</td>\n",
       "      <td>4.140284</td>\n",
       "      <td>2025-09-29 23:20:22.739000+00:00</td>\n",
       "      <td>2025-09-29 23:24:10.401645+00:00</td>\n",
       "      <td>2025</td>\n",
       "    </tr>\n",
       "  </tbody>\n",
       "</table>\n",
       "</div>"
      ],
      "text/plain": [
       "            id symbol      name  current_price     market_cap  total_volume  \\\n",
       "0      bitcoin    btc   Bitcoin      114313.00  2277021305051   58855014595   \n",
       "1     ethereum    eth  Ethereum        4225.59   509726400726   35437258130   \n",
       "2       tether   usdt    Tether           1.00   174454866853  111783934919   \n",
       "3       ripple    xrp       XRP           2.89   172553781571    4905318747   \n",
       "4  binancecoin    bnb       BNB        1033.05   143649529111    2127461869   \n",
       "\n",
       "     high_24h    low_24h  price_change_percentage_1h_in_currency  \\\n",
       "0  114411.000  111599.00                                0.134874   \n",
       "1    4230.020    4089.64                                0.057965   \n",
       "2       1.001       1.00                                0.002564   \n",
       "3       2.910       2.85                               -0.167751   \n",
       "4    1035.610     988.90                               -0.110228   \n",
       "\n",
       "   price_change_percentage_24h_in_currency  \\\n",
       "0                                 2.012834   \n",
       "1                                 2.412481   \n",
       "2                                 0.022374   \n",
       "3                                 0.846490   \n",
       "4                                 4.458525   \n",
       "\n",
       "   price_change_percentage_7d_in_currency                     last_updated  \\\n",
       "0                                1.198553 2025-09-29 23:20:22.786000+00:00   \n",
       "1                                0.723453 2025-09-29 23:20:25.315000+00:00   \n",
       "2                               -0.016332 2025-09-29 23:20:21.246000+00:00   \n",
       "3                                1.195363 2025-09-29 23:20:19.767000+00:00   \n",
       "4                                4.140284 2025-09-29 23:20:22.739000+00:00   \n",
       "\n",
       "                        run_ts_utc    dt  \n",
       "0 2025-09-29 23:24:10.401645+00:00  2025  \n",
       "1 2025-09-29 23:24:10.401645+00:00  2025  \n",
       "2 2025-09-29 23:24:10.401645+00:00  2025  \n",
       "3 2025-09-29 23:24:10.401645+00:00  2025  \n",
       "4 2025-09-29 23:24:10.401645+00:00  2025  "
      ]
     },
     "execution_count": 2,
     "metadata": {},
     "output_type": "execute_result"
    }
   ],
   "source": [
    "import pandas as pd\n",
    "\n",
    "objs = s3.list_objects_v2(Bucket=bucket, Prefix=prefix).get(\"Contents\", [])\n",
    "latest = max(objs, key=lambda x: x[\"LastModified\"])\n",
    "key = latest[\"Key\"]\n",
    "print(\"Leyendo:\", key)\n",
    "\n",
    "df = pd.read_parquet(f\"s3://{bucket}/{key}\")\n",
    "df.head()"
   ]
  }
 ],
 "metadata": {
  "kernelspec": {
   "display_name": "prefect",
   "language": "python",
   "name": "python3"
  },
  "language_info": {
   "codemirror_mode": {
    "name": "ipython",
    "version": 3
   },
   "file_extension": ".py",
   "mimetype": "text/x-python",
   "name": "python",
   "nbconvert_exporter": "python",
   "pygments_lexer": "ipython3",
   "version": "3.13.7"
  }
 },
 "nbformat": 4,
 "nbformat_minor": 5
}
